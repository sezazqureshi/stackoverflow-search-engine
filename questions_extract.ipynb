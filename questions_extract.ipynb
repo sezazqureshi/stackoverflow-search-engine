{
 "cells": [
  {
   "cell_type": "markdown",
   "metadata": {},
   "source": [
    "#  Search Engine Based on StackOverflow Questions "
   ]
  },
  {
   "cell_type": "markdown",
   "metadata": {},
   "source": [
    "<h1>1. Business Problem </h1>"
   ]
  },
  {
   "cell_type": "markdown",
   "metadata": {},
   "source": [
    "<h2> 1.1 Description </h2>"
   ]
  },
  {
   "cell_type": "markdown",
   "metadata": {},
   "source": [
    "<p style='font-size:18px'><b> Description </b></p>\n",
    "<p>\n",
    "Stack Overflow is the largest, most trusted online community for developers to learn, share their programming knowledge, and build their careers.<br />\n",
    "<br />\n",
    "Stack Overflow is something which every programmer use one way or another. Each month, over 50 million developers come to Stack Overflow to learn, share their knowledge, and build their careers. It features questions and answers on a wide range of topics in computer programming. The website serves as a platform for users to ask and answer questions, and, through membership and active participation, to vote questions and answers up or down and edit questions and answers in a fashion similar to a wiki or Digg. As of April 2014 Stack Overflow has over 4,000,000 registered users, and it exceeded 10,000,000 questions in late August 2015. Based on the type of tags assigned to questions, the top eight most discussed topics on the site are: Java, JavaScript, C#, PHP, Android, jQuery, Python and HTML.<br />\n",
    "<br />\n",
    "</p>"
   ]
  },
  {
   "cell_type": "markdown",
   "metadata": {},
   "source": [
    "<p style='font-size:18px'><b> Problem Statemtent </b></p>\n",
    "Build a search engine based on StackOverflow questions, the search results should include the semantic meaning."
   ]
  },
  {
   "cell_type": "markdown",
   "metadata": {},
   "source": [
    "<p style='font-size:18px'><b> Source:</b>  https://archive.org/details/stackexchange  </p>\n"
   ]
  },
  {
   "cell_type": "markdown",
   "metadata": {},
   "source": [
    "<h2> 1.2 Source / useful links </h2>"
   ]
  },
  {
   "cell_type": "markdown",
   "metadata": {},
   "source": [
    "Data Source :https://archive.org/details/stackexchange <br>\n",
    "Youtube : https://youtu.be/nNDqbUhtIRg <br>\n",
    "Research paper : Word2Vec https://arxiv.org/abs/1301.3781 <br>\n",
    "Research paper : Doc2Vec https://arxiv.org/abs/1405.4053  <br>\n",
    "Research paper : BERT https://arxiv.org/abs/1810.04805  <br>\n",
    "Research paper : Universal Sentance Encoder https://arxiv.org/abs/1803.11175  <br>\n",
    "word2vec Blog : https://blog.acolyer.org/2016/04/21/the-amazing-power-of-word-vectors/\n",
    "\n"
   ]
  },
  {
   "cell_type": "markdown",
   "metadata": {},
   "source": [
    "<h2> 1.3 Real World / Business Objectives and Constraints </h2> \n"
   ]
  },
  {
   "cell_type": "markdown",
   "metadata": {},
   "source": [
    "1. the search results should include the semantic meaning.\n",
    "2. Think of scalable architecture and try to reduce the time to return the results."
   ]
  },
  {
   "cell_type": "markdown",
   "metadata": {},
   "source": [
    "<h1>2. Machine Learning problem </h1>"
   ]
  },
  {
   "cell_type": "markdown",
   "metadata": {},
   "source": [
    "<h2> 2.1 Data </h2>"
   ]
  },
  {
   "cell_type": "markdown",
   "metadata": {},
   "source": [
    "<h3> 2.1.1 Data Overview </h3>"
   ]
  },
  {
   "cell_type": "markdown",
   "metadata": {},
   "source": [
    "<br>\n",
    "All of the data is in 1 zip-file: stackoverflow.com-Posts.7z <br />\n",
    "inside the zip file there one xml file : Posts.xml\n",
    "<pre>\n",
    "<b>Posts.xml</b> contains 16 columns: Id,PostTypeId,AcceptedAnswerId,CreationDate,Score,ViewCount,Body,OwnerUserId,LastEditorUserId,LastEditDate,LastActivityDate,Title,Tags,AnswerCount,CommentCoun,FavoriteCount <br />\n",
    "<b>Size of Posts.xml</b> - 14.6GB<br />\n",
    "<b>Number of rows in Posts.xml</b> = 3 Million records <br />\n",
    "</pre>\n",
    "<b>Note : </b> we are not using this whole data for this case study, due to limited resources and time constraints<br/>\n",
    "<pre>\n",
    "\n",
    "<b>the dataframe that we are using has 3 columns: </b> Id,title, Body  <br />\n",
    "\n",
    "<b>Number of rows in dataframe</b> = 112357  <br />\n",
    "</pre>\n",
    "\n",
    "-> The questions are randomized and contains a mix of verbose text sites as well as sites related to math and programming. The number of questions from each site may vary, and no filtering has been performed on the questions (such as closed questions).<br />\n",
    "<br />\n"
   ]
  },
  {
   "cell_type": "markdown",
   "metadata": {},
   "source": [
    "__Data Field Explaination__\n",
    "\n",
    "Dataset contains 112357  rows. The columns in the table are:<br />\n",
    "<pre>\n",
    "<b>Id</b> - Unique identifier for each question<br />\n",
    "<b>Title</b> - The question's title<br />\n",
    "<b>Body</b> - The body of the question<br />\n",
    "\n",
    "</pre>\n",
    "\n",
    "<br />"
   ]
  },
  {
   "cell_type": "markdown",
   "metadata": {},
   "source": [
    "<h3>2.1.2 Example Data point </h3>"
   ]
  },
  {
   "cell_type": "markdown",
   "metadata": {},
   "source": [
    "<h4>2.1.2.1 Posts.xml </h4>"
   ]
  },
  {
   "cell_type": "markdown",
   "metadata": {},
   "source": [
    "Id=\"1\" <br />\n",
    "PostTypeId=\"1\" <br />\n",
    "AcceptedAnswerId=\"3\" <br />\n",
    "CreationDate=\"2016-08-02T15:39:14.947\" <br />\n",
    "Score=\"8\" <br />\n",
    "ViewCount=\"436\" <br />\n",
    "Body=\"&lt;p&gt;What does &quot;backprop&quot; mean? Is the &quot;backprop&quot; term basically the same as &quot;backpropagation&quot; or does it have a different meaning?&lt;/p&gt;&#xA;\" <br />\n",
    "OwnerUserId=\"8\" <br />\n",
    "LastEditorUserId=\"2444\" <br /> \n",
    "LastEditDate=\"2019-11-16T17:56:22.093\" <br />\n",
    "LastActivityDate=\"2019-11-16T17:56:22.093\" <br /> \n",
    "Title=\"What is &quot;backprop&quot;?\" <br />\n",
    "Tags=\"&lt;neural-networks&gt;&lt;backpropagation&gt;&lt;terminology&gt;&lt;definitions&gt;\" <br />\n",
    "AnswerCount=\"3\" <br />\n",
    "CommentCount=\"0\" <br />\n",
    "FavoriteCount=\"1\" <br />"
   ]
  },
  {
   "cell_type": "markdown",
   "metadata": {},
   "source": [
    "<h4>2.1.2.2 file1.csv </h4>"
   ]
  },
  {
   "cell_type": "markdown",
   "metadata": {},
   "source": [
    "Id : \"2214\" <br/>\n",
    "\n",
    "Title : <pre> \"When will the AI can replace developer or tester\"</pre> <br/>\n",
    "Body : <pre> \"&lt;p&gt;Now AI can replace call center, worker(in the factory) and going to replace court. When will the AI can replace developer or tester?&lt;/p&gt;&#xA;&#xA;&lt;p&gt;I want to know how long can AI replace developer. e.g. next 10 years because...&lt;/p&gt;&#xA;\"</pre><br/>\n"
   ]
  },
  {
   "cell_type": "markdown",
   "metadata": {},
   "source": [
    "<h2>2.2 Mapping the real-world problem to a Machine Learning Problem </h2>"
   ]
  },
  {
   "cell_type": "markdown",
   "metadata": {},
   "source": [
    "<h3> 2.2.1 Type of Machine Learning Problem </h3>"
   ]
  },
  {
   "cell_type": "markdown",
   "metadata": {},
   "source": [
    "<pre> <p>It is basically finding semamtic similarity between documents.Here, the terminology “document” could refer to a web-page, a word document, a paragraph of text, an essay, a sentence, or even just a single word.  <br>\n",
    "Two semantically similar documents, will contain many of the same topics while two semantically different documents will not have many topics in common.  Machine learning methods are described which can take as input large collections of documents and use those documents to automatically learn semantic similarity relations.</pre>"
   ]
  },
  {
   "cell_type": "markdown",
   "metadata": {},
   "source": [
    "<h3>2.2.2 Performance metric </h3>"
   ]
  },
  {
   "attachments": {
    "Captuare.JPG": {
     "image/jpeg": "[encoded data removed]"
    }
   },
   "cell_type": "markdown",
   "metadata": {},
   "source": [
    "<b>Cosine similarity</b> : \n",
    "Cosine similarity calculates similarity by measuring the\n",
    "cosine of angle between two vectors. This is calculated as\n",
    "![Captuare.JPG](attachment:Captuare.JPG)\n",
    "link: https://en.wikipedia.org/wiki/Cosine_similarity"
   ]
  },
  {
   "cell_type": "markdown",
   "metadata": {},
   "source": [
    "<h1> 3. Exploratory Data Analysis </h1>"
   ]
  },
  {
   "cell_type": "markdown",
   "metadata": {},
   "source": [
    "<h2> 3.1 Data Loading </h2>"
   ]
  },
  {
   "cell_type": "markdown",
   "metadata": {},
   "source": [
    "<h3> 3.1.1 downloading data and extracting the zip file </h3>"
   ]
  },
  {
   "cell_type": "code",
   "execution_count": 6,
   "metadata": {
    "colab": {
     "base_uri": "https://localhost:8080/",
     "height": 243
    },
    "colab_type": "code",
    "id": "JhPXnS-rzyYw",
    "outputId": "940bc979-866b-4ab3-9347-c20d1d0502a5"
   },
   "outputs": [
    {
     "name": "stderr",
     "output_type": "stream",
     "text": [
      "'wget' is not recognized as an internal or external command,\n",
      "operable program or batch file.\n"
     ]
    }
   ],
   "source": [
    "!wget --header 'Host: ia800107.us.archive.org' --user-agent 'Mozilla/5.0 (Windows NT 10.0; Win64; x64; rv:76.0) Gecko/20100101 Firefox/76.0' --header 'Accept: text/html,application/xhtml+xml,application/xml;q=0.9,image/webp,*/*;q=0.8' --header 'Accept-Language: en-US,en;q=0.5' --referer 'https://archive.org/details/stackexchange' --header 'Cookie: PHPSESSID=cv4gm885ijhaelfot7md17gtd7' --header 'Upgrade-Insecure-Requests: 1' 'https://ia800107.us.archive.org/27/items/stackexchange/academia.stackexchange.com.7z' --output-document 'academia.stackexchange.com.7z'"
   ]
  },
  {
   "cell_type": "code",
   "execution_count": 7,
   "metadata": {
    "colab": {
     "base_uri": "https://localhost:8080/",
     "height": 131
    },
    "colab_type": "code",
    "id": "lRw4bMbEzzsL",
    "outputId": "5496daa8-0ae6-4685-97da-d815be13627c"
   },
   "outputs": [
    {
     "name": "stdout",
     "output_type": "stream",
     "text": [
      "Requirement already satisfied: patool in /usr/local/lib/python3.6/dist-packages (1.12)\n",
      "patool: Extracting /content/academia.stackexchange.com.7z ...\n",
      "patool: running /usr/bin/7z x -o./Unpack_qbcmdwdk -- /content/academia.stackexchange.com.7z\n",
      "patool: ... /content/academia.stackexchange.com.7z extracted to `academia.stackexchange.com' (multiple files in root).\n"
     ]
    },
    {
     "data": {
      "text/plain": [
       "'academia.stackexchange.com'"
      ]
     },
     "execution_count": 7,
     "metadata": {
      "tags": []
     },
     "output_type": "execute_result"
    }
   ],
   "source": [
    "!pip install patool #installing patoolib\n",
    "import patoolib #importing\n",
    "patoolib.extract_archive('/content/academia.stackexchange.com.7z')#extracting archive"
   ]
  },
  {
   "cell_type": "markdown",
   "metadata": {},
   "source": [
    "<h3> 3.1.2 parsing the xml file </h3>"
   ]
  },
  {
   "cell_type": "code",
   "execution_count": 0,
   "metadata": {
    "colab": {},
    "colab_type": "code",
    "id": "InUjeyWjyfOM"
   },
   "outputs": [],
   "source": [
    "#https://stackoverflow.com/questions/1912434/how-do-i-parse-xml-in-python\n",
    "import xml.etree.ElementTree as ET\n",
    "root = ET.parse('Posts.xml').getroot()"
   ]
  },
  {
   "cell_type": "markdown",
   "metadata": {},
   "source": [
    "<h3> 3.1.3 extracting the title and body from xml file </h3>"
   ]
  },
  {
   "cell_type": "code",
   "execution_count": 0,
   "metadata": {
    "colab": {},
    "colab_type": "code",
    "id": "rSTVr8oQyfOZ"
   },
   "outputs": [],
   "source": [
    "title = []\n",
    "text = []\n",
    "count = 0\n",
    "count2 = 0\n",
    "for child in root.iter('row'):\n",
    "    if child.attrib['PostTypeId'] == \"1\":#postTypeId ==1 means question post and postTypeId == 2 means answer post\n",
    "        if child.attrib['Title'] is not None:\n",
    "            title.append(child.attrib['Title'])\n",
    "            text.append(child.attrib['Body'])\n",
    "\n",
    "        elif child.attrib['Title'] is None:# in case if the post doesent have title it will just have body\n",
    "            text.append(child.attrib['Body'])\n"
   ]
  },
  {
   "cell_type": "code",
   "execution_count": 25,
   "metadata": {
    "colab": {
     "base_uri": "https://localhost:8080/",
     "height": 36
    },
    "colab_type": "code",
    "id": "HWUBo6bp1_eT",
    "outputId": "f7268eae-4094-425c-a2e8-6db78ce33f93"
   },
   "outputs": [
    {
     "data": {
      "text/plain": [
       "30994"
      ]
     },
     "execution_count": 25,
     "metadata": {
      "tags": []
     },
     "output_type": "execute_result"
    }
   ],
   "source": [
    "len(text)"
   ]
  },
  {
   "cell_type": "markdown",
   "metadata": {},
   "source": [
    "<h3> 3.1.4 saving the title and text into dataframe and then into csv </h3>"
   ]
  },
  {
   "cell_type": "code",
   "execution_count": 0,
   "metadata": {
    "colab": {},
    "colab_type": "code",
    "id": "Xgi78b0TyfOn"
   },
   "outputs": [],
   "source": [
    "import pandas as pd\n",
    "df = pd.DataFrame({'title':title,\"body\":text})"
   ]
  },
  {
   "cell_type": "code",
   "execution_count": 27,
   "metadata": {
    "colab": {
     "base_uri": "https://localhost:8080/",
     "height": 206
    },
    "colab_type": "code",
    "id": "wIzDN43kyfOv",
    "outputId": "d4431ee8-d9cf-412e-c6ae-1881b8ee530d"
   },
   "outputs": [
    {
     "data": {
      "text/html": [
       "<div>\n",
       "<style scoped>\n",
       "    .dataframe tbody tr th:only-of-type {\n",
       "        vertical-align: middle;\n",
       "    }\n",
       "\n",
       "    .dataframe tbody tr th {\n",
       "        vertical-align: top;\n",
       "    }\n",
       "\n",
       "    .dataframe thead th {\n",
       "        text-align: right;\n",
       "    }\n",
       "</style>\n",
       "<table border=\"1\" class=\"dataframe\">\n",
       "  <thead>\n",
       "    <tr style=\"text-align: right;\">\n",
       "      <th></th>\n",
       "      <th>title</th>\n",
       "      <th>body</th>\n",
       "    </tr>\n",
       "  </thead>\n",
       "  <tbody>\n",
       "    <tr>\n",
       "      <th>0</th>\n",
       "      <td>What kind of Visa is required to work in Acade...</td>\n",
       "      <td>&lt;p&gt;As from title. What kind of visa class do I...</td>\n",
       "    </tr>\n",
       "    <tr>\n",
       "      <th>1</th>\n",
       "      <td>As a computational chemist, which online resou...</td>\n",
       "      <td>&lt;p&gt;Which online resources are available for jo...</td>\n",
       "    </tr>\n",
       "    <tr>\n",
       "      <th>2</th>\n",
       "      <td>Where can I find the Impact Factor for a given...</td>\n",
       "      <td>&lt;p&gt;As from title. Not all journals provide the...</td>\n",
       "    </tr>\n",
       "    <tr>\n",
       "      <th>3</th>\n",
       "      <td>In U.S., why do many engineering departments c...</td>\n",
       "      <td>&lt;p&gt;I have seen many engineering departments wa...</td>\n",
       "    </tr>\n",
       "    <tr>\n",
       "      <th>4</th>\n",
       "      <td>What is the h-index exactly and how does it work?</td>\n",
       "      <td>&lt;p&gt;What is the h-index, and how does it work ?...</td>\n",
       "    </tr>\n",
       "  </tbody>\n",
       "</table>\n",
       "</div>"
      ],
      "text/plain": [
       "                                               title                                               body\n",
       "0  What kind of Visa is required to work in Acade...  <p>As from title. What kind of visa class do I...\n",
       "1  As a computational chemist, which online resou...  <p>Which online resources are available for jo...\n",
       "2  Where can I find the Impact Factor for a given...  <p>As from title. Not all journals provide the...\n",
       "3  In U.S., why do many engineering departments c...  <p>I have seen many engineering departments wa...\n",
       "4  What is the h-index exactly and how does it work?  <p>What is the h-index, and how does it work ?..."
      ]
     },
     "execution_count": 27,
     "metadata": {
      "tags": []
     },
     "output_type": "execute_result"
    }
   ],
   "source": [
    "df.head()"
   ]
  },
  {
   "cell_type": "code",
   "execution_count": 0,
   "metadata": {
    "colab": {},
    "colab_type": "code",
    "id": "PbXZlCcGyfO6"
   },
   "outputs": [],
   "source": [
    "df.to_csv('file1.csv') "
   ]
  }
 ],
 "metadata": {
  "colab": {
   "collapsed_sections": [],
   "name": "questions extract.ipynb",
   "provenance": []
  },
  "kernelspec": {
   "display_name": "Python 3",
   "language": "python",
   "name": "python3"
  },
  "language_info": {
   "codemirror_mode": {
    "name": "ipython",
    "version": 3
   },
   "file_extension": ".py",
   "mimetype": "text/x-python",
   "name": "python",
   "nbconvert_exporter": "python",
   "pygments_lexer": "ipython3",
   "version": "3.7.7"
  }
 },
 "nbformat": 4,
 "nbformat_minor": 1
}
